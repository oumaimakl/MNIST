{
  "cells": [
    {
      "cell_type": "markdown",
      "metadata": {
        "id": "view-in-github",
        "colab_type": "text"
      },
      "source": [
        "<a href=\"https://colab.research.google.com/github/oumaimakl/MNIST/blob/main/mnistML.ipynb\" target=\"_parent\"><img src=\"https://colab.research.google.com/assets/colab-badge.svg\" alt=\"Open In Colab\"/></a>"
      ]
    },
    {
      "cell_type": "code",
      "execution_count": null,
      "metadata": {
        "id": "1wUi9eLsVMFl"
      },
      "outputs": [],
      "source": [
        "import keras\n",
        "from keras.datasets import mnist # import the function mnist\n",
        "from keras.models import Sequential\n",
        "from keras.layers import Dense, Dropout # Dense = Fully Connected layer.\n",
        "from tensorflow.keras.optimizers import RMSprop, Adam\n",
        "import matplotlib.pyplot as plt # shorcut for a plot function"
      ]
    },
    {
      "cell_type": "markdown",
      "metadata": {
        "id": "5sjzUDI_x_4t"
      },
      "source": [
        "#sssss"
      ]
    },
    {
      "cell_type": "code",
      "execution_count": null,
      "metadata": {
        "id": "NjvmZyqDVNSB"
      },
      "outputs": [],
      "source": [
        "batch_size = 128\n",
        "num_classes = 10\n",
        "epochs = 100"
      ]
    },
    {
      "cell_type": "code",
      "execution_count": null,
      "metadata": {
        "colab": {
          "base_uri": "https://localhost:8080/"
        },
        "id": "KtO89V3uVmnX",
        "outputId": "4d90f2fb-85b4-493c-9d00-558e36429003"
      },
      "outputs": [
        {
          "name": "stdout",
          "output_type": "stream",
          "text": [
            "Downloading data from https://storage.googleapis.com/tensorflow/tf-keras-datasets/mnist.npz\n",
            "11490434/11490434 [==============================] - 0s 0us/step\n"
          ]
        }
      ],
      "source": [
        "(x_train,y_train),(x_test,y_test) = mnist.load_data()\n"
      ]
    },
    {
      "cell_type": "code",
      "execution_count": null,
      "metadata": {
        "colab": {
          "base_uri": "https://localhost:8080/",
          "height": 374
        },
        "id": "Bj2JFpA-Wetf",
        "outputId": "5335912b-8193-4998-9c81-c3392ac77485"
      },
      "outputs": [
        {
          "name": "stdout",
          "output_type": "stream",
          "text": [
            "(60000, 28, 28)\n",
            "(10000, 28, 28)\n",
            "(60000,)\n",
            "(10000,)\n",
            "[5 0 4 1 9 2 1 3 1 4]\n"
          ]
        },
        {
          "data": {
            "text/plain": [
              "<matplotlib.image.AxesImage at 0x7fec85852710>"
            ]
          },
          "execution_count": 4,
          "metadata": {},
          "output_type": "execute_result"
        },
        {
          "data": {
            "image/png": "[encoded data removed]",
            "text/plain": [
              "<Figure size 432x288 with 1 Axes>"
            ]
          },
          "metadata": {},
          "output_type": "display_data"
        }
      ],
      "source": [
        "print(x_train.shape)\n",
        "print(x_test.shape)\n",
        "print(y_train.shape)\n",
        "print(y_test.shape)\n",
        "print(y_train[:10])\n",
        "plt.imshow(x_train[1,:,:],   cmap = 'gray')                      "
      ]
    },
    {
      "cell_type": "code",
      "execution_count": null,
      "metadata": {
        "colab": {
          "base_uri": "https://localhost:8080/"
        },
        "id": "BFR4gdxeW8TC",
        "outputId": "b0815487-fe74-474b-9319-96f744aa753f"
      },
      "outputs": [
        {
          "name": "stdout",
          "output_type": "stream",
          "text": [
            "60000 train samples\n",
            "10000 test samples\n"
          ]
        }
      ],
      "source": [
        "x_train = x_train.reshape(60000, 784)\n",
        "x_test = x_test.reshape (10000, 784)\n",
        "x_train =x_train.astype('float32') \n",
        "x_test =x_test.astype('float32') \n",
        "x_train /= 255\n",
        "x_test /= 255\n",
        "print(x_train.shape[0], \"train samples\")\n",
        "print(x_test.shape[0], \"test samples\")\n"
      ]
    },
    {
      "cell_type": "code",
      "execution_count": null,
      "metadata": {
        "colab": {
          "base_uri": "https://localhost:8080/"
        },
        "id": "VIT2_ryXX_K_",
        "outputId": "1a80fd5a-a47e-48e3-de99-dbcfb21c0228"
      },
      "outputs": [
        {
          "name": "stdout",
          "output_type": "stream",
          "text": [
            "[1. 0. 0. 0. 0. 0. 0. 0. 0. 0.]\n"
          ]
        }
      ],
      "source": [
        "y_train =keras.utils.to_categorical(y_train, num_classes )\n",
        "y_test =keras.utils.to_categorical(y_test, num_classes )\n",
        "print(y_train[1,:])"
      ]
    },
    {
      "cell_type": "code",
      "execution_count": null,
      "metadata": {
        "colab": {
          "base_uri": "https://localhost:8080/"
        },
        "id": "CVw0fIJRYZqa",
        "outputId": "1a9d04b3-e496-41b5-fd76-fb5176bf9b60"
      },
      "outputs": [
        {
          "name": "stdout",
          "output_type": "stream",
          "text": [
            "Model: \"sequential\"\n",
            "_________________________________________________________________\n",
            " Layer (type)                Output Shape              Param #   \n",
            "=================================================================\n",
            " dense (Dense)               (None, 200)               157000    \n",
            "                                                                 \n",
            " dropout (Dropout)           (None, 200)               0         \n",
            "                                                                 \n",
            " dense_1 (Dense)             (None, 260)               52260     \n",
            "                                                                 \n",
            " dropout_1 (Dropout)         (None, 260)               0         \n",
            "                                                                 \n",
            " dense_2 (Dense)             (None, 10)                2610      \n",
            "                                                                 \n",
            "=================================================================\n",
            "Total params: 211,870\n",
            "Trainable params: 211,870\n",
            "Non-trainable params: 0\n",
            "_________________________________________________________________\n"
          ]
        }
      ],
      "source": [
        "from inspect import modulesbyfile\n",
        "model = Sequential()\n",
        "\n",
        "model.add(Dense(200, activation=\"relu\",input_shape=(784,)))\n",
        "\n",
        "\n",
        "model.add(Dropout(0.4))\n",
        "\n",
        "model.add(Dense(260, activation=\"relu\"))\n",
        "model. add(Dropout(0.4))\n",
        "\n",
        "model.add(Dense(10, activation=\"softmax\"))\n",
        "## Play with different number of layers and see overfitting. Then, ad\n",
        "\n",
        "model.summary()\n",
        "\n"
      ]
    },
    {
      "cell_type": "code",
      "execution_count": null,
      "metadata": {
        "id": "ZLBOCxQvZ0dY"
      },
      "outputs": [],
      "source": [
        "model2.compile(loss=\"categorical_crossentropy\",\n",
        "optimizer=Adam(), metrics=[\"accuracy\"])\n"
      ]
    },
    {
      "cell_type": "code",
      "execution_count": null,
      "metadata": {
        "colab": {
          "background_save": true,
          "base_uri": "https://localhost:8080/"
        },
        "id": "AEPYqcTSa9K-",
        "outputId": "2dbe04e5-a112-46b0-92cf-48869965c14f"
      },
      "outputs": [
        {
          "name": "stdout",
          "output_type": "stream",
          "text": [
            "Epoch 1/100\n",
            "469/469 [==============================] - 165s 349ms/step - loss: 0.2615 - accuracy: 0.9182 - val_loss: 0.0534 - val_accuracy: 0.9829\n",
            "Epoch 2/100\n",
            "469/469 [==============================] - 165s 351ms/step - loss: 0.0785 - accuracy: 0.9771 - val_loss: 0.0354 - val_accuracy: 0.9892\n",
            "Epoch 3/100\n",
            "469/469 [==============================] - 167s 357ms/step - loss: 0.0590 - accuracy: 0.9829 - val_loss: 0.0340 - val_accuracy: 0.9897\n",
            "Epoch 4/100\n",
            "469/469 [==============================] - 168s 358ms/step - loss: 0.0465 - accuracy: 0.9863 - val_loss: 0.0304 - val_accuracy: 0.9904\n",
            "Epoch 5/100\n",
            "469/469 [==============================] - 167s 357ms/step - loss: 0.0387 - accuracy: 0.9885 - val_loss: 0.0369 - val_accuracy: 0.9891\n",
            "Epoch 6/100\n",
            "469/469 [==============================] - 171s 365ms/step - loss: 0.0355 - accuracy: 0.9894 - val_loss: 0.0303 - val_accuracy: 0.9906\n",
            "Epoch 7/100\n",
            "469/469 [==============================] - 170s 362ms/step - loss: 0.0277 - accuracy: 0.9916 - val_loss: 0.0297 - val_accuracy: 0.9909\n",
            "Epoch 8/100\n",
            "469/469 [==============================] - 169s 359ms/step - loss: 0.0259 - accuracy: 0.9925 - val_loss: 0.0315 - val_accuracy: 0.9907\n",
            "Epoch 9/100\n",
            "469/469 [==============================] - 171s 364ms/step - loss: 0.0233 - accuracy: 0.9928 - val_loss: 0.0274 - val_accuracy: 0.9917\n",
            "Epoch 10/100\n",
            "469/469 [==============================] - 170s 363ms/step - loss: 0.0227 - accuracy: 0.9930 - val_loss: 0.0320 - val_accuracy: 0.9920\n",
            "Epoch 11/100\n",
            "469/469 [==============================] - 170s 363ms/step - loss: 0.0177 - accuracy: 0.9945 - val_loss: 0.0318 - val_accuracy: 0.9924\n",
            "Epoch 12/100\n",
            "469/469 [==============================] - 169s 360ms/step - loss: 0.0172 - accuracy: 0.9945 - val_loss: 0.0351 - val_accuracy: 0.9912\n",
            "Epoch 13/100\n",
            "469/469 [==============================] - 170s 363ms/step - loss: 0.0172 - accuracy: 0.9947 - val_loss: 0.0354 - val_accuracy: 0.9914\n",
            "Epoch 14/100\n",
            "469/469 [==============================] - 169s 361ms/step - loss: 0.0174 - accuracy: 0.9944 - val_loss: 0.0324 - val_accuracy: 0.9920\n",
            "Epoch 15/100\n",
            "469/469 [==============================] - 171s 364ms/step - loss: 0.0151 - accuracy: 0.9950 - val_loss: 0.0347 - val_accuracy: 0.9923\n",
            "Epoch 16/100\n",
            "469/469 [==============================] - 169s 361ms/step - loss: 0.0150 - accuracy: 0.9953 - val_loss: 0.0321 - val_accuracy: 0.9926\n",
            "Epoch 17/100\n",
            "469/469 [==============================] - 170s 363ms/step - loss: 0.0126 - accuracy: 0.9961 - val_loss: 0.0316 - val_accuracy: 0.9923\n",
            "Epoch 18/100\n",
            "469/469 [==============================] - 170s 363ms/step - loss: 0.0128 - accuracy: 0.9960 - val_loss: 0.0363 - val_accuracy: 0.9907\n",
            "Epoch 19/100\n",
            "469/469 [==============================] - 170s 362ms/step - loss: 0.0117 - accuracy: 0.9962 - val_loss: 0.0316 - val_accuracy: 0.9923\n",
            "Epoch 20/100\n",
            "469/469 [==============================] - 171s 364ms/step - loss: 0.0112 - accuracy: 0.9966 - val_loss: 0.0391 - val_accuracy: 0.9911\n",
            "Epoch 21/100\n",
            "469/469 [==============================] - 170s 363ms/step - loss: 0.0123 - accuracy: 0.9963 - val_loss: 0.0352 - val_accuracy: 0.9920\n",
            "Epoch 22/100\n",
            "469/469 [==============================] - 169s 360ms/step - loss: 0.0096 - accuracy: 0.9969 - val_loss: 0.0378 - val_accuracy: 0.9918\n",
            "Epoch 23/100\n",
            "469/469 [==============================] - 167s 355ms/step - loss: 0.0116 - accuracy: 0.9964 - val_loss: 0.0343 - val_accuracy: 0.9931\n",
            "Epoch 24/100\n",
            "469/469 [==============================] - 167s 356ms/step - loss: 0.0092 - accuracy: 0.9972 - val_loss: 0.0418 - val_accuracy: 0.9912\n",
            "Epoch 25/100\n",
            "469/469 [==============================] - 166s 355ms/step - loss: 0.0091 - accuracy: 0.9975 - val_loss: 0.0428 - val_accuracy: 0.9916\n",
            "Epoch 26/100\n",
            "469/469 [==============================] - 168s 359ms/step - loss: 0.0097 - accuracy: 0.9969 - val_loss: 0.0457 - val_accuracy: 0.9915\n",
            "Epoch 27/100\n",
            "469/469 [==============================] - 167s 355ms/step - loss: 0.0101 - accuracy: 0.9969 - val_loss: 0.0319 - val_accuracy: 0.9932\n",
            "Epoch 28/100\n",
            "469/469 [==============================] - 168s 357ms/step - loss: 0.0084 - accuracy: 0.9974 - val_loss: 0.0350 - val_accuracy: 0.9925\n",
            "Epoch 29/100\n",
            "469/469 [==============================] - 167s 356ms/step - loss: 0.0089 - accuracy: 0.9971 - val_loss: 0.0386 - val_accuracy: 0.9920\n",
            "Epoch 30/100\n",
            "469/469 [==============================] - 167s 356ms/step - loss: 0.0091 - accuracy: 0.9972 - val_loss: 0.0414 - val_accuracy: 0.9922\n",
            "Epoch 31/100\n",
            "469/469 [==============================] - 167s 356ms/step - loss: 0.0087 - accuracy: 0.9972 - val_loss: 0.0428 - val_accuracy: 0.9917\n",
            "Epoch 32/100\n",
            "469/469 [==============================] - 168s 358ms/step - loss: 0.0082 - accuracy: 0.9975 - val_loss: 0.0385 - val_accuracy: 0.9930\n",
            "Epoch 33/100\n",
            " 20/469 [>.............................] - ETA: 2:34 - loss: 0.0033 - accuracy: 0.9992"
          ]
        }
      ],
      "source": [
        "history = model2.fit(x_train, y_train,\n",
        "batch_size=batch_size,\n",
        "epochs=epochs,\n",
        "verbose= 1, # means print everything\n",
        "validation_data=(x_test, y_test)) # it runs the model here\n"
      ]
    },
    {
      "cell_type": "code",
      "execution_count": null,
      "metadata": {
        "colab": {
          "base_uri": "https://localhost:8080/"
        },
        "id": "0NTk2fJbbjUl",
        "outputId": "327d8b30-ea5b-4e10-a500-da1f1fd43c57"
      },
      "outputs": [
        {
          "name": "stdout",
          "output_type": "stream",
          "text": [
            "79/79 [==============================] - 0s 3ms/step - loss: 0.0826 - accuracy: 0.9819\n",
            "Test loss: 0.08258508890867233\n",
            "Test accuracy: 0.9818999767303467\n"
          ]
        }
      ],
      "source": [
        "score = model.evaluate(x_test, y_test, verbose=1,batch_size=batch_size)\n",
        "print(\"Test loss:\", score[0])\n",
        "print(\"Test accuracy:\", score[1])\n"
      ]
    },
    {
      "cell_type": "code",
      "execution_count": null,
      "metadata": {
        "colab": {
          "base_uri": "https://localhost:8080/",
          "height": 295
        },
        "id": "-XHJBCrZb1wY",
        "outputId": "208d2f04-6890-4a78-fae1-d46804081ae2"
      },
      "outputs": [
        {
          "data": {
            "image/png": "[encoded data removed]",
            "text/plain": [
              "<Figure size 432x288 with 1 Axes>"
            ]
          },
          "metadata": {},
          "output_type": "display_data"
        }
      ],
      "source": [
        "plt.plot(history.history['loss'])\n",
        "plt.plot(history.history['val_loss'])\n",
        "plt.title('model loss')\n",
        "plt.ylabel(\"loss\")\n",
        "plt.xlabel(\"epoch\")\n",
        "plt.legend(['train','test'],loc='upper left')\n",
        "plt.show()"
      ]
    },
    {
      "cell_type": "code",
      "execution_count": null,
      "metadata": {
        "id": "sK_WtTzaikHM"
      },
      "outputs": [],
      "source": [
        "from keras.layers import Dense,Dropout,Flatten\n",
        "from keras.layers import Conv2D, MaxPooling2D\n",
        "x_train=x_train.reshape(x_train.shape[0],28,28,1)\n",
        "x_test=x_test.reshape(x_test.shape[0],28,28,1)\n",
        "input_shape=(28,28,1)"
      ]
    },
    {
      "cell_type": "code",
      "execution_count": null,
      "metadata": {
        "colab": {
          "base_uri": "https://localhost:8080/"
        },
        "id": "XG7Xyz8ElPZA",
        "outputId": "1165fe78-b513-4510-fd95-9c947e5bea99"
      },
      "outputs": [
        {
          "name": "stdout",
          "output_type": "stream",
          "text": [
            "Model: \"sequential_1\"\n",
            "_________________________________________________________________\n",
            " Layer (type)                Output Shape              Param #   \n",
            "=================================================================\n",
            " conv2d (Conv2D)             (None, 26, 26, 32)        320       \n",
            "                                                                 \n",
            " conv2d_1 (Conv2D)           (None, 24, 24, 64)        18496     \n",
            "                                                                 \n",
            " max_pooling2d (MaxPooling2D  (None, 12, 12, 64)       0         \n",
            " )                                                               \n",
            "                                                                 \n",
            " dropout_2 (Dropout)         (None, 12, 12, 64)        0         \n",
            "                                                                 \n",
            " flatten (Flatten)           (None, 9216)              0         \n",
            "                                                                 \n",
            " dense_3 (Dense)             (None, 200)               1843400   \n",
            "                                                                 \n",
            " dropout_3 (Dropout)         (None, 200)               0         \n",
            "                                                                 \n",
            " dense_4 (Dense)             (None, 200)               40200     \n",
            "                                                                 \n",
            " dropout_4 (Dropout)         (None, 200)               0         \n",
            "                                                                 \n",
            " dense_5 (Dense)             (None, 10)                2010      \n",
            "                                                                 \n",
            "=================================================================\n",
            "Total params: 1,904,426\n",
            "Trainable params: 1,904,426\n",
            "Non-trainable params: 0\n",
            "_________________________________________________________________\n"
          ]
        }
      ],
      "source": [
        "model2 = Sequential() #couche apres couche\n",
        "model2.add(Conv2D(32, kernel_size=(3, 3),\n",
        "activation=\"relu\",input_shape=input_shape))\n",
        "model2.add(Conv2D(64, (3, 3), activation='relu'))\n",
        "model2.add(MaxPooling2D(pool_size=(2, 2)))\n",
        "model2.add (Dropout (0.25))\n",
        "model2.add(Flatten()) \n",
        "model2.add(Dense(200, activation='relu', input_shape=(784,))) \n",
        "\n",
        "model2.add(Dropout(0.4)) \n",
        "\n",
        "model2.add(Dense(200, activation=\"relu\")) \n",
        "model2.add(Dropout (0.4))\n",
        "\n",
        "model2.add(Dense(10, activation='softmax'))\n",
        "\n",
        "model2. summary ()\n"
      ]
    }
  ],
  "metadata": {
    "colab": {
      "toc_visible": true,
      "provenance": [],
      "authorship_tag": "ABX9TyPB5i9ouSVOWSx0Xurotzux",
      "include_colab_link": true
    },
    "kernelspec": {
      "display_name": "Python 3",
      "name": "python3"
    },
    "language_info": {
      "name": "python"
    }
  },
  "nbformat": 4,
  "nbformat_minor": 0
}